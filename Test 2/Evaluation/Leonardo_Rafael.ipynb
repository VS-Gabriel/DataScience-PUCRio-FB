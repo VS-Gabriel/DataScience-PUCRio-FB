{
  "nbformat": 4,
  "nbformat_minor": 0,
  "metadata": {
    "colab": {
      "provenance": [],
      "authorship_tag": "ABX9TyPbNkXlaWIgCYXoAVuep6Xa",
      "include_colab_link": true
    },
    "kernelspec": {
      "name": "ir",
      "display_name": "R"
    },
    "language_info": {
      "name": "R"
    }
  },
  "cells": [
    {
      "cell_type": "markdown",
      "metadata": {
        "id": "view-in-github",
        "colab_type": "text"
      },
      "source": [
        "<a href=\"https://colab.research.google.com/github/renatoquiliche/DataScience-PUCRio-FB/blob/main/Test%202/Evaluation/Leonardo_Rafael.ipynb\" target=\"_parent\"><img src=\"https://colab.research.google.com/assets/colab-badge.svg\" alt=\"Open In Colab\"/></a>"
      ]
    },
    {
      "cell_type": "code",
      "execution_count": 42,
      "metadata": {
        "colab": {
          "base_uri": "https://localhost:8080/"
        },
        "id": "9Y--ZKg7y7pu",
        "outputId": "a3c08b0b-b894-4ffe-95d4-27a2f756ab5b"
      },
      "outputs": [
        {
          "output_type": "stream",
          "name": "stderr",
          "text": [
            "Installing package into ‘/usr/local/lib/R/site-library’\n",
            "(as ‘lib’ is unspecified)\n",
            "\n"
          ]
        }
      ],
      "source": [
        "#install.packages('mltools')\n",
        "library(readr)\n",
        "library(caret)\n",
        "library(rpart)\n",
        "library(rpart.plot)\n",
        "library(mltools)\n",
        "library(dplyr)"
      ]
    },
    {
      "cell_type": "code",
      "source": [
        "# Lendo os dados\n",
        "salarios.c <- read.csv(\"https://raw.githubusercontent.com/renatoquiliche/DataScience-PUCRio-FB/main/Data/DS_salarios/ds_salaries.csv\")\n"
      ],
      "metadata": {
        "id": "p0yALt8N1OCq"
      },
      "execution_count": 75,
      "outputs": []
    },
    {
      "cell_type": "code",
      "source": [
        "#### Pre-Processamento\n",
        "### Exercicio 1 \n",
        "# Transformando as variáveis categoricas em dummies exceto a variavel alvo \"company_size\"\n",
        "str(salarios.c)\n",
        "salarios.c$work_year <- as.character(salarios.c$work_year)\n",
        "salarios.c$work_month <- as.character(salarios.c$work_month)\n",
        "salarios.c$remote_ratio <- as.character(salarios.c$remote_ratio)\n",
        "salarios.c$company_size <- factor(salarios.c$company_size)\n",
        "\n",
        "\n",
        "dummies <- dummyVars(salary_in_usd ~ work_year + work_month + experience_level + employment_type + \n",
        "                       job_title + salary_currency + employee_residence + remote_ratio + \n",
        "                       company_location, data = salarios.c, fullRank = T)\n",
        "\n",
        "# É utilizado fullRank = T para evitar existencia de variáveis com colinearidade perfeita no modelo\n",
        "dummies <- predict(dummies,newdata=salarios.c)\n",
        "salarios <- cbind(salarios.c,dummies)\n",
        "salarios <- salarios[,-c(1,2,3,4,5,7,9,10,11)]\n",
        "colnames(salarios) <- gsub(\" \", \"\\\\_\", colnames(salarios))\n",
        "\n",
        "\n",
        "# Criar amostras treino/teste \n",
        "set.seed(400)\n",
        "inTrain <- createDataPartition(y=salarios$company_size,p=0.80,list=F)\n",
        "train <- salarios[inTrain,]\n",
        "test <- salarios[-inTrain,]\n",
        "\n",
        "# Análise de variância, correlação e dependência linear\n",
        "# NearZeroVar\n",
        "nzv <- nearZeroVar(train, saveMetrics = F) \n",
        "train <- train[,-nzv]\n",
        "# Removo 161 variaveis"
      ],
      "metadata": {
        "colab": {
          "base_uri": "https://localhost:8080/"
        },
        "id": "uNIFMhGP97k_",
        "outputId": "ed88f81c-8c6e-4929-be5e-d7e9766fa6e7"
      },
      "execution_count": 85,
      "outputs": [
        {
          "output_type": "stream",
          "name": "stdout",
          "text": [
            "'data.frame':\t607 obs. of  13 variables:\n",
            " $ X                 : int  0 1 2 3 4 5 6 7 8 9 ...\n",
            " $ work_year         : chr  \"2020\" \"2020\" \"2020\" \"2020\" ...\n",
            " $ work_month        : chr  \"6\" \"11\" \"12\" \"6\" ...\n",
            " $ experience_level  : chr  \"MI\" \"SE\" \"SE\" \"MI\" ...\n",
            " $ employment_type   : chr  \"FT\" \"FT\" \"FT\" \"FT\" ...\n",
            " $ job_title         : chr  \"Data Scientist\" \"Machine Learning Scientist\" \"Big Data Engineer\" \"Product Data Analyst\" ...\n",
            " $ salary            : int  70000 260000 85000 20000 150000 72000 190000 11000000 135000 125000 ...\n",
            " $ salary_currency   : chr  \"EUR\" \"USD\" \"GBP\" \"USD\" ...\n",
            " $ salary_in_usd     : int  79833 260000 109024 20000 150000 72000 190000 35735 135000 125000 ...\n",
            " $ employee_residence: chr  \"DE\" \"JP\" \"GB\" \"HN\" ...\n",
            " $ remote_ratio      : chr  \"0\" \"0\" \"50\" \"0\" ...\n",
            " $ company_location  : chr  \"DE\" \"JP\" \"GB\" \"HN\" ...\n",
            " $ company_size      : Factor w/ 3 levels \"L\",\"M\",\"S\": 1 3 2 3 1 1 3 1 1 3 ...\n"
          ]
        }
      ]
    },
    {
      "cell_type": "code",
      "source": [
        "# Correlacao\n",
        "corr <- cor(train[c(1:2,4:33)],method = \"spearman\") \n",
        "alta_corr <- findCorrelation(corr, cutoff = .75, names=T) \n",
        "train <- dplyr::select(train,- alta_corr)\n",
        "# Removo 5 variaveis\n",
        "\n",
        "# Dependencia Linear\n",
        "dep_lin <- findLinearCombos(train[,c(1:2,4:28)])   \n",
        "dep_lin$remove\n",
        "# Como dep_lin$remove é NULL, nao removemos nenhuma variavel\n",
        "\n",
        "# Variaveis que foram mantidas\n",
        "variaveis_mantidas <- colnames(train)\n",
        "\n",
        "\n",
        "\n",
        "#### Processamento\n",
        "### Exercicio 2 \n",
        "## 2.1)\n",
        "fitree <- rpart(company_size~., data=train, maxdepth = 3)\n",
        "\n",
        "## 2.2)\n",
        "rpart.plot(fitree)\n",
        "\n",
        "\n",
        "### Exercicio 3 \n",
        "## 3.1)\n",
        "# A raiz da árvore identifica se o ano de trabalho é 2021 ou não. Se o ano for 2021, o nó subsequente identifica se o salário em dólares é maior ou igual a $19,000.00. Caso positivo, a folha é formada por 32% dos trabalhadores, sendo desses 59% de empresa L, 24% de M e 16% de empresa S. Se não for, a folha conclui que há somente 3% das pessoas nesta categoria, sendo 6% de empresa L, 44% de M e 50% de empresa S. Voltando ao primeiro nó, oriundo da raiz da árvore, caso o ano de trabalho seja 2020 ou 2022, o nó inclui a condição se ele trabalha parcialmente remoto ou não. Se sim, ele conclui que essa folha é formada por apenas 5% dos trabalhadores, sendo desses 62% de empresa L, 17% de empresa M e 21% de empresa S. Para o caso de não se trabalhar parcialmente remoto, a folha é formada por 59% das pessoas, sendo destes 17% de empresa L, 73% de M e 10% de empresa S. \n",
        "\n",
        "\n",
        "#### Pos-Processamento\n",
        "### Exercicio 4 \n",
        "## 4.1) Removendo as mesmas variaveis removidas na amostra treino\n",
        "test <- dplyr::select(test, variaveis_mantidas)\n",
        "# 4.1.1)\n",
        "estimate <- predict(fitree, test, type = \"class\")\n",
        "confusionMatrix(test$company_size, estimate)\n",
        "# A partir da matriz de confusão, obteve-se uma acurácia de 71,67% para o modelo, um resultado satisfatório. Para empresas pequenas, pode-se concluir pela matriz que ela acertou a previsão em somente 1 dos 3 casos, tendo 2 como grandes. Para a previsão de empresas médias, a árvore operou bem melhor, prevendo 56 de 68 como médias, 4 como pequenas e 8 como grandes. Já para empresas grandes, de 49 empresas deste tamanho, ela categorizou 29 corretamente e 20 erroneamente, sendo 11 pequenas e 9 médias. \n",
        "\n",
        "# 4.1.2)\n",
        "mcc(test$company_size,estimate)\n",
        "# Foi obtido para o modelo um valor de MCC = 0,5. Este índice varia de -1 a 1, quanto mais próximo de 1, melhor o modelo, portanto pode-se considerar um bom valor."
      ],
      "metadata": {
        "colab": {
          "base_uri": "https://localhost:8080/",
          "height": 153
        },
        "id": "D4vcX_xXZMhZ",
        "outputId": "0d854670-defe-4f27-e233-26f1a41f7342"
      },
      "execution_count": 87,
      "outputs": [
        {
          "output_type": "error",
          "ename": "ERROR",
          "evalue": "ignored",
          "traceback": [
            "Error in cor(train[-c(1:2, 4:33)], method = \"spearman\"): 'x' must be numeric\nTraceback:\n",
            "1. cor(train[-c(1:2, 4:33)], method = \"spearman\")",
            "2. stop(\"'x' must be numeric\")"
          ]
        }
      ]
    }
  ]
}